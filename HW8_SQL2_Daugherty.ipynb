{
 "cells": [
  {
   "cell_type": "markdown",
   "metadata": {},
   "source": [
    "### *\"Courage is NOT having the strength to go on; it is going on when you don't have the strength.\"*\n",
    "*-Theodore Roosevelt*\n",
    "\n",
    "So be courageous!  The end of the semester is in sight!"
   ]
  },
  {
   "cell_type": "markdown",
   "metadata": {},
   "source": [
    "----\n",
    "\n",
    "YOUR NAME HERE: SPENCER DAUGHERTY\n",
    "\n",
    "----"
   ]
  },
  {
   "cell_type": "markdown",
   "metadata": {},
   "source": [
    "# HW 8: Group By and Having and Join"
   ]
  },
  {
   "cell_type": "code",
   "execution_count": 4,
   "metadata": {},
   "outputs": [],
   "source": [
    "import numpy as np\n",
    "import matplotlib.pyplot as plt\n",
    "import pandas as pd\n",
    "import sqlite3 as sql"
   ]
  },
  {
   "cell_type": "markdown",
   "metadata": {},
   "source": [
    "\n",
    "\n",
    "## Review\n",
    "\n",
    "Based on what you have learned, here's the general form of a select statement.\n",
    "\n",
    "```SELECT column_name(s)```\n",
    "\n",
    "```FROM table_name```\n",
    "\n",
    "```WHERE condition```\n",
    "\n",
    "```GROUP BY column_name(s)```\n",
    "\n",
    "```HAVING condition```\n",
    "\n",
    "```ORDER BY column_name(s)```\n",
    "\n",
    "\n",
    "Now remember:  \n",
    "\n",
    "The ```HAVING``` clause is like a WHERE clause but is used when the selection condition is based on aggregate funtion of a column, such as ```COUNT(name) > 10``` or ```MAX(Rain) < 2.0```."
   ]
  },
  {
   "cell_type": "markdown",
   "metadata": {},
   "source": [
    "In this homework, we will review the select statement, focusing on the GROUP BY and HAVING functionality as well as the JOIN functionality.  To make sure you are understanding when to use the capabilities and when to not, some problems will not require these techniques, so think hard before assuming you need one of these keywords.\n",
    "\n",
    "----\n",
    "\n",
    "Let's bring in the weather data."
   ]
  },
  {
   "cell_type": "markdown",
   "metadata": {},
   "source": [
    "Recall that the table contains about 62 years worth of temperature, rainfall and sunshine data for the city of London.\n",
    "\n",
    "There is a record/row for each year/month from Jan 1957 to April 2019.  \n",
    "\n",
    "* Tmax:  The max temp for the month (celsius)\n",
    "* Tmin:  The min temp for the month (celsius)\n",
    "* Rain: the rainfall is the total amout of rain for the month in millimeters\n",
    "* Sun : the total number of hours sunshine for the month."
   ]
  },
  {
   "cell_type": "code",
   "execution_count": 6,
   "metadata": {},
   "outputs": [
    {
     "name": "stdout",
     "output_type": "stream",
     "text": [
      "     Year  Month  Tmax  Tmin  Rain    Sun\n",
      "0    1957      1   8.7   2.7  39.5   53.0\n",
      "1    1957      2   9.0   2.9  69.8   64.9\n",
      "2    1957      3  13.9   5.7  25.4   96.7\n",
      "3    1957      4  14.2   5.2   5.7  169.6\n",
      "4    1957      5  16.2   6.5  21.3  195.0\n",
      "..    ...    ...   ...   ...   ...    ...\n",
      "743  2018     12  10.7   5.2  60.6   40.3\n",
      "744  2019      1   7.6   2.0  33.2   56.4\n",
      "745  2019      2  12.4   3.3  34.2  120.2\n",
      "746  2019      3  13.1   5.8  49.6  119.0\n",
      "747  2019      4  15.8   5.7  12.8  170.1\n",
      "\n",
      "[748 rows x 6 columns]\n"
     ]
    }
   ],
   "source": [
    "#Read in a csv with weather data\n",
    "weather = pd.read_csv('weather.csv')\n",
    "print(weather)\n",
    "#conn = sql.connect('weather.db')\n",
    "#weather.to_sql('weather', conn)"
   ]
  },
  {
   "cell_type": "markdown",
   "metadata": {},
   "source": [
    "### Don't forget to use your SQL Lab notes! \n",
    "\n",
    "\n",
    "----\n",
    "\n",
    "### Question 1.\n",
    "\n",
    "Except for 2019, there are 12 rows per year in the weather data beacuse we have monthly weather measurements.  \n",
    "\n",
    "Find the average rainfall per year, except for 2019.\n",
    "\n",
    "So your final answer will be as follows.\n",
    "\n",
    "| Year | AVG(Rain) |\n",
    "|:----:|:---------:|\n",
    "| 1957 | 46.466667 |\n",
    "| 1958 | 61.641667 |\n",
    "| 1959 | 40.608333 |\n",
    "| 1960 | 61.283333 |\n",
    "| 1961 | 46.566667 |\n",
    "|  ... |    ...    |\n",
    "| 2014 | 72.000000 |\n",
    "| 2015 | 46.833333 |\n",
    "| 2016 | 49.216667 |\n",
    "| 2017 | 47.683333 |\n",
    "| 2018 | 48.333333 |"
   ]
  },
  {
   "cell_type": "code",
   "execution_count": 3,
   "metadata": {},
   "outputs": [
    {
     "data": {
      "text/html": [
       "<div>\n",
       "<style scoped>\n",
       "    .dataframe tbody tr th:only-of-type {\n",
       "        vertical-align: middle;\n",
       "    }\n",
       "\n",
       "    .dataframe tbody tr th {\n",
       "        vertical-align: top;\n",
       "    }\n",
       "\n",
       "    .dataframe thead th {\n",
       "        text-align: right;\n",
       "    }\n",
       "</style>\n",
       "<table border=\"1\" class=\"dataframe\">\n",
       "  <thead>\n",
       "    <tr style=\"text-align: right;\">\n",
       "      <th></th>\n",
       "      <th>Year</th>\n",
       "      <th>avg(Rain)</th>\n",
       "    </tr>\n",
       "  </thead>\n",
       "  <tbody>\n",
       "    <tr>\n",
       "      <th>0</th>\n",
       "      <td>1957</td>\n",
       "      <td>46.466667</td>\n",
       "    </tr>\n",
       "    <tr>\n",
       "      <th>1</th>\n",
       "      <td>1958</td>\n",
       "      <td>61.641667</td>\n",
       "    </tr>\n",
       "    <tr>\n",
       "      <th>2</th>\n",
       "      <td>1959</td>\n",
       "      <td>40.608333</td>\n",
       "    </tr>\n",
       "    <tr>\n",
       "      <th>3</th>\n",
       "      <td>1960</td>\n",
       "      <td>61.283333</td>\n",
       "    </tr>\n",
       "    <tr>\n",
       "      <th>4</th>\n",
       "      <td>1961</td>\n",
       "      <td>46.566667</td>\n",
       "    </tr>\n",
       "    <tr>\n",
       "      <th>...</th>\n",
       "      <td>...</td>\n",
       "      <td>...</td>\n",
       "    </tr>\n",
       "    <tr>\n",
       "      <th>57</th>\n",
       "      <td>2014</td>\n",
       "      <td>72.000000</td>\n",
       "    </tr>\n",
       "    <tr>\n",
       "      <th>58</th>\n",
       "      <td>2015</td>\n",
       "      <td>46.833333</td>\n",
       "    </tr>\n",
       "    <tr>\n",
       "      <th>59</th>\n",
       "      <td>2016</td>\n",
       "      <td>49.216667</td>\n",
       "    </tr>\n",
       "    <tr>\n",
       "      <th>60</th>\n",
       "      <td>2017</td>\n",
       "      <td>47.683333</td>\n",
       "    </tr>\n",
       "    <tr>\n",
       "      <th>61</th>\n",
       "      <td>2018</td>\n",
       "      <td>48.333333</td>\n",
       "    </tr>\n",
       "  </tbody>\n",
       "</table>\n",
       "<p>62 rows × 2 columns</p>\n",
       "</div>"
      ],
      "text/plain": [
       "    Year  avg(Rain)\n",
       "0   1957  46.466667\n",
       "1   1958  61.641667\n",
       "2   1959  40.608333\n",
       "3   1960  61.283333\n",
       "4   1961  46.566667\n",
       "..   ...        ...\n",
       "57  2014  72.000000\n",
       "58  2015  46.833333\n",
       "59  2016  49.216667\n",
       "60  2017  47.683333\n",
       "61  2018  48.333333\n",
       "\n",
       "[62 rows x 2 columns]"
      ]
     },
     "execution_count": 3,
     "metadata": {},
     "output_type": "execute_result"
    }
   ],
   "source": [
    "sql_statement = \"\"\"Select  Year, avg(Rain) \n",
    "                    from weather\n",
    "                    where year not in (2019)\n",
    "                    group by year\"\"\"\n",
    "\n",
    "weather_results = pd.read_sql_query(sql_statement, conn)\n",
    "weather_results"
   ]
  },
  {
   "cell_type": "markdown",
   "metadata": {},
   "source": [
    "### Question 2.\n",
    "\n",
    "Select all the rows where the Tmin and Tmax are within 4.5 degrees celsius of each other.  Show the Year, Month, Tmin, and Tmax.\n",
    "\n",
    "HINTS:  \n",
    "* The result should be a 7 row X 4 column table.\n",
    "* The first row should be Jan 1966 with a Tmin of 1.0 degree celsius and a Tmax of 5.3 degrees celsius"
   ]
  },
  {
   "cell_type": "code",
   "execution_count": 4,
   "metadata": {},
   "outputs": [
    {
     "data": {
      "text/html": [
       "<div>\n",
       "<style scoped>\n",
       "    .dataframe tbody tr th:only-of-type {\n",
       "        vertical-align: middle;\n",
       "    }\n",
       "\n",
       "    .dataframe tbody tr th {\n",
       "        vertical-align: top;\n",
       "    }\n",
       "\n",
       "    .dataframe thead th {\n",
       "        text-align: right;\n",
       "    }\n",
       "</style>\n",
       "<table border=\"1\" class=\"dataframe\">\n",
       "  <thead>\n",
       "    <tr style=\"text-align: right;\">\n",
       "      <th></th>\n",
       "      <th>Year</th>\n",
       "      <th>Month</th>\n",
       "      <th>Tmin</th>\n",
       "      <th>Tmax</th>\n",
       "    </tr>\n",
       "  </thead>\n",
       "  <tbody>\n",
       "    <tr>\n",
       "      <th>0</th>\n",
       "      <td>1966</td>\n",
       "      <td>1</td>\n",
       "      <td>1.0</td>\n",
       "      <td>5.3</td>\n",
       "    </tr>\n",
       "    <tr>\n",
       "      <th>1</th>\n",
       "      <td>1968</td>\n",
       "      <td>12</td>\n",
       "      <td>1.0</td>\n",
       "      <td>5.4</td>\n",
       "    </tr>\n",
       "    <tr>\n",
       "      <th>2</th>\n",
       "      <td>1986</td>\n",
       "      <td>2</td>\n",
       "      <td>-2.7</td>\n",
       "      <td>1.7</td>\n",
       "    </tr>\n",
       "    <tr>\n",
       "      <th>3</th>\n",
       "      <td>1996</td>\n",
       "      <td>1</td>\n",
       "      <td>3.1</td>\n",
       "      <td>7.2</td>\n",
       "    </tr>\n",
       "    <tr>\n",
       "      <th>4</th>\n",
       "      <td>2000</td>\n",
       "      <td>12</td>\n",
       "      <td>4.6</td>\n",
       "      <td>9.0</td>\n",
       "    </tr>\n",
       "    <tr>\n",
       "      <th>5</th>\n",
       "      <td>2002</td>\n",
       "      <td>12</td>\n",
       "      <td>5.2</td>\n",
       "      <td>9.0</td>\n",
       "    </tr>\n",
       "  </tbody>\n",
       "</table>\n",
       "</div>"
      ],
      "text/plain": [
       "   Year  Month  Tmin  Tmax\n",
       "0  1966      1   1.0   5.3\n",
       "1  1968     12   1.0   5.4\n",
       "2  1986      2  -2.7   1.7\n",
       "3  1996      1   3.1   7.2\n",
       "4  2000     12   4.6   9.0\n",
       "5  2002     12   5.2   9.0"
      ]
     },
     "execution_count": 4,
     "metadata": {},
     "output_type": "execute_result"
    }
   ],
   "source": [
    "sql_statement = \"\"\"Select Year, Month, Tmin, Tmax \n",
    "                    from weather \n",
    "                    where (tmax-tmin) < 4.5\"\"\"\n",
    "\n",
    "weather_results = pd.read_sql_query(sql_statement, conn)\n",
    "weather_results "
   ]
  },
  {
   "cell_type": "markdown",
   "metadata": {},
   "source": [
    "### Question 3.\n",
    "\n",
    "Like us, the summer months in London are June, July, and August.\n",
    "\n",
    "Find the years where the average Tmax during the summer months is greater than the average overall summer Tmax.  Show the average/Max/Min Tmax for these years.\n",
    "\n",
    "The answer will have 29 rows and is shown below.\n",
    "\n",
    "| Year | AVG(Tmax) | MAX(Tmax) | MIN(Tmax) |\n",
    "|:----:|:---------:|:---------:|:---------:|\n",
    "| 1957 | 22.400000 |    23.6   |    21.1   |\n",
    "| 1959 | 23.666667 |    24.7   |    22.1   |\n",
    "| 1970 | 22.400000 |    23.6   |    21.3   |\n",
    "| 1973 | 22.333333 |    23.7   |    21.4   |\n",
    "| 1975 | 23.933333 |    25.9   |    21.8   |\n",
    "| 1976 | 25.733333 |    26.6   |    25.1   |\n",
    "| 1983 | 24.300000 |    27.6   |    20.8   |\n",
    "| 1984 | 23.300000 |    24.4   |    21.3   |\n",
    "| 1989 | 24.033333 |    25.8   |    22.1   |\n",
    "| 1990 | 23.400000 |    26.0   |    19.5   |\n",
    "|  ... |    ...    |    ...    |    ...    |\n",
    "| 2010 | 23.366667 |    25.0   |    21.6   |\n",
    "| 2013 | 23.866667 |    27.0   |    20.3   |\n",
    "| 2014 | 23.200000 |    25.8   |    21.7   |\n",
    "| 2015 | 22.700000 |    23.7   |    22.2   |\n",
    "| 2016 | 23.133333 |    24.7   |    20.7   |\n",
    "| 2017 | 23.266667 |    24.0   |    22.0   |\n",
    "| 2018 | 25.666667 |    28.3   |    24.2   |"
   ]
  },
  {
   "cell_type": "code",
   "execution_count": null,
   "metadata": {},
   "outputs": [],
   "source": [
    "sql_statement = \"\"\"Select year, Avg(Tmax) , Max(tmax), Min(Tmax)\n",
    "                    from weather\n",
    "                    where month in (6,7,8) \n",
    "                    group by year\n",
    "                    having Avg(Tmax)>(Select Avg(Tmax) \n",
    "                    from weather\n",
    "                    where month in (6,7,8))\"\"\"\n",
    "\n",
    "\n",
    "weather_results = pd.read_sql_query(sql_statement, conn)\n",
    "weather_results"
   ]
  },
  {
   "cell_type": "markdown",
   "metadata": {},
   "source": [
    "### Closing the DB connection.\n",
    "Let's close the DB connection as we will now work with  a different data set."
   ]
  },
  {
   "cell_type": "code",
   "execution_count": null,
   "metadata": {},
   "outputs": [],
   "source": [
    "conn.close()"
   ]
  },
  {
   "cell_type": "markdown",
   "metadata": {},
   "source": [
    "----\n",
    "\n",
    "### NBA Salaries\n",
    "\n",
    "First, import the NBA Salaries from the 2015-2016 season for a few more practice problems."
   ]
  },
  {
   "cell_type": "code",
   "execution_count": null,
   "metadata": {},
   "outputs": [],
   "source": [
    "nba_15_16 = pd.read_csv('nba_salaries.csv') #Open the csv\n",
    "conn = sql.connect('nba_more.db') #Create an nba_more database\n",
    "nba_15_16.to_sql('nba_15_16', conn)  #Dump the csv into a table called nba_15_16 in the nba_more database"
   ]
  },
  {
   "cell_type": "markdown",
   "metadata": {},
   "source": [
    "Now, for the first time ever, we will load in a second csv and store it as a second table in the SAME database. \n",
    "\n",
    "This second csv/table has some stats on the 20-21 NBA players.\n",
    "\n",
    "Run the cell below to make this happen."
   ]
  },
  {
   "cell_type": "code",
   "execution_count": null,
   "metadata": {},
   "outputs": [],
   "source": [
    "nba_20_21= pd.read_csv('nba_20-21.csv')   #Open the csv\n",
    "nba_20_21.to_sql('nba_20_21', conn)   #Dump it into a table called nba_20_21 in the nba_more database"
   ]
  },
  {
   "cell_type": "markdown",
   "metadata": {},
   "source": [
    "If you run the cell below, you can see that our nba.db file contains two tables, namely, ```nba_15_16``` and ```nba_20_21```.   "
   ]
  },
  {
   "cell_type": "code",
   "execution_count": null,
   "metadata": {},
   "outputs": [],
   "source": [
    "#See all the tables included\n",
    "curs = conn.cursor()\n",
    "curs.execute(\"SELECT name FROM sqlite_master WHERE type = 'table'\").fetchall()"
   ]
  },
  {
   "cell_type": "markdown",
   "metadata": {},
   "source": [
    "### WARNING:  \n",
    "\n",
    "The ```FROM``` clause in all your select statements must involve one of the above table names.  You can NO LONGER say ```SELECT * FROM nba WHERE....``` This is because there is no longer a table called ```nba``` now.  Our tables are called ```nba_15_16``` and ```nba_20_21```.   \n",
    "\n",
    "You are familiar with the first table, namely nba salaries in 2015-2016, but re-run the cell below to remnind yourself of the details. "
   ]
  },
  {
   "cell_type": "code",
   "execution_count": null,
   "metadata": {},
   "outputs": [],
   "source": [
    "sql_statement = \"\"\"SELECT *\n",
    "                   FROM nba_15_16\"\"\"\n",
    "\n",
    "nba_results = pd.read_sql_query(sql_statement, conn)\n",
    "nba_results"
   ]
  },
  {
   "cell_type": "markdown",
   "metadata": {},
   "source": [
    "The data from the 20-21 table came from https://basketball.realgm.com/nba/players.  It does not include salary information but it has the following.\n",
    "\n",
    "* jersey number\n",
    "* name of player\n",
    "* position of player\n",
    "* height\n",
    "* weight\n",
    "* yos - I believe this is related to how long a player can dribble, but could not verify this.  If you know what it is, please tell me!\n",
    "* predraft_team - team they were in before the draft\n",
    "\n",
    "Let's select everything from the second table, just so that you can get a visual.  Run the cell below."
   ]
  },
  {
   "cell_type": "code",
   "execution_count": null,
   "metadata": {},
   "outputs": [],
   "source": [
    "sql_statement = \"\"\"SELECT *\n",
    "                   FROM nba_20_21\"\"\"\n",
    "\n",
    "nba_results = pd.read_sql_query(sql_statement, conn)\n",
    "nba_results"
   ]
  },
  {
   "cell_type": "markdown",
   "metadata": {},
   "source": [
    "----\n",
    "\n",
    "### Question 4.\n",
    "\n",
    "Find how many players were on each team in the 2015-2016 season and also show the average salary of each team.  Sort the table from the team with the greatest number of players to the least.  Make the column headers match those below.\n",
    "\n",
    "HINT: You'll get  a 30 by 3 table and the partial answer is shown below.\n",
    "\n",
    "|                team | num_players | avg_salary |\n",
    "|--------------------:|------------:|-----------:|\n",
    "|   Memphis Grizzlies |          21 |   4.466497 |\n",
    "|   Charlotte Hornets |          18 |   4.672355 |\n",
    "|  Washington Wizards |          17 |   5.296912 |\n",
    "|           Utah Jazz |          17 |   3.095993 |\n",
    "|     Toronto Raptors |          17 |   4.392507 |\n",
    "|        Phoenix Suns |          17 |   2.971813 |\n",
    "|                 ... |         ... |        ... |\n",
    "|  Los Angeles Lakers |          11 |   6.237086 |\n",
    "|    Dallas Mavericks |          11 |   5.978414 |\n",
    "|     Detroit Pistons |          10 |   4.221176 |\n",
    "| Cleveland Cavaliers |          10 |  10.231241 |\n"
   ]
  },
  {
   "cell_type": "code",
   "execution_count": null,
   "metadata": {},
   "outputs": [],
   "source": [
    "sql_statement = \"\"\"Select  Team,Count(Player) as No_of_Players, Avg(Salary) as Average_Salary \n",
    "                    from nba_15_16\n",
    "                    group by team\n",
    "                    order by Count(Player) desc\"\"\"\n",
    "\n",
    "nba_results = pd.read_sql_query(sql_statement, conn)\n",
    "nba_results"
   ]
  },
  {
   "cell_type": "markdown",
   "metadata": {},
   "source": [
    "----\n",
    "\n",
    "### Question 5.\n",
    "\n",
    "\n",
    "For each team 2015-2016, show how many players per position there were and the average salary per position.  The column titles should be shown as follows. Sort the table from the highest average salary to the least.\n",
    "\n",
    "| position | num_players | avg_salary |\n",
    "|---------:|------------:|-----------:|\n",
    "\n",
    "HINT: You'll get  a 5 by 3 table where there are 96 shooting guards who made an average of \\$3.988195 million.\n",
    "\n"
   ]
  },
  {
   "cell_type": "code",
   "execution_count": null,
   "metadata": {},
   "outputs": [],
   "source": [
    "sql_statement = \"\"\"Select Position, Count(Player) as num_players, avg(Salary) as avg_salary \n",
    "                    from nba_15_16\n",
    "                    group by Position\n",
    "                    order by avg(Salary) desc\"\"\"\n",
    "\n",
    "nba_results = pd.read_sql_query(sql_statement, conn)\n",
    "nba_results\n"
   ]
  },
  {
   "cell_type": "markdown",
   "metadata": {},
   "source": [
    "Based on your analysis, what position makes the most on avereage?"
   ]
  },
  {
   "cell_type": "markdown",
   "metadata": {},
   "source": [
    "*Write your answer here*"
   ]
  },
  {
   "cell_type": "markdown",
   "metadata": {},
   "source": [
    "----"
   ]
  },
  {
   "cell_type": "markdown",
   "metadata": {},
   "source": [
    "### Question 6.\n",
    "\n",
    "***Using joins***, show how many players from the 2015-2016 season also played in 2021-21 season.\n",
    "\n",
    "Hint:  The answer is between 155 and 165."
   ]
  },
  {
   "cell_type": "code",
   "execution_count": null,
   "metadata": {},
   "outputs": [],
   "source": [
    "sql_statement = \"\"\"Select Position, Count(Player) as No_of_Players, avg(Salary) as Average_salary \n",
    "                    from nba_15_16\n",
    "                    group by Position\n",
    "                    order by avg(Salary) desc\"\"\"\n",
    "\n",
    "nba_results = pd.read_sql_query(sql_statement, conn)\n",
    "nba_results"
   ]
  },
  {
   "cell_type": "markdown",
   "metadata": {},
   "source": [
    "### Question 7A.\n",
    "\n",
    "***Using joins***, for each player in the 2015-2016 season, show the player's team in 2015-2016 and the player's team in 2020-2021.  Those players who were not in the NBA in the 2020-2021 season should be included.  Sort by player name and rename the columns so that they look like below.\n",
    "\n",
    "You'll have 417 rows, since the length fo the 2015-2016 roster is 417.\n",
    "\n",
    "|          player |          team15_16 |             team20_21 |\n",
    "|----------------:|-------------------:|----------------------:|\n",
    "|    Paul Millsap |      Atlanta Hawks |        Denver Nuggets |\n",
    "|      Al Horford |      Atlanta Hawks | Oklahoma City Thunder |\n",
    "|  Tiago Splitter |      Atlanta Hawks |                  None |\n",
    "|     Jeff Teague |      Atlanta Hawks |       Milwaukee Bucks |\n",
    "|     Kyle Korver |      Atlanta Hawks |                  None |\n",
    "|             ... |                ... |                   ... |\n",
    "|       Gary Neal | Washington Wizards |                  None |\n",
    "|    DeJuan Blair | Washington Wizards |                  None |\n",
    "| Kelly Oubre Jr. | Washington Wizards |                  None |\n",
    "|  Garrett Temple | Washington Wizards |         Chicago Bulls |\n",
    "|    Jarell Eddie | Washington Wizards |                  None |\n"
   ]
  },
  {
   "cell_type": "code",
   "execution_count": null,
   "metadata": {},
   "outputs": [],
   "source": [
    "sql_statement = \"\"\"Select nba_15_16.player, nba_15_16.team as team15_16, nba_20_21.team as team20_21\n",
    "                    from nba_15_16\n",
    "                    left join  nba_20_21\n",
    "                    order by nba_15_16.player\"\"\"\n",
    "\n",
    "nba_results = pd.read_sql_query(sql_statement, conn)\n",
    "nba_results\n"
   ]
  },
  {
   "cell_type": "markdown",
   "metadata": {},
   "source": [
    "### Question 7B.\n",
    "\n",
    "Modify the query in 7A sp that the resulting table shows only those players who are not on the 2020-2021 roster.  ***Use the NULL keyword to do this.***\n",
    "\n",
    "HINT:  There are 417 folks on the 2015-2016 roster and you know how many of them played in the 20-21 season from a previous question.  So how many rows should be in this table?\n",
    "\n",
    "|      player     |      team15_16     | team20_21 |\n",
    "|:---------------:|:------------------:|:---------:|\n",
    "|  Tiago Splitter |    Atlanta Hawks   |    None   |\n",
    "|   Kyle Korver   |    Atlanta Hawks   |    None   |\n",
    "|       ...       |         ...        |    ...    |\n",
    "| Kelly Oubre Jr. | Washington Wizards |    None   |\n",
    "|   Jarell Eddie  | Washington Wizards |    None   |\n"
   ]
  },
  {
   "cell_type": "code",
   "execution_count": null,
   "metadata": {},
   "outputs": [],
   "source": [
    "sql_statement = \"\"\"Select a.player, a.team , b.Team from nba_15_16\n",
    "left join  nba_20_21 b on\n",
    "a.player = b.name\n",
    "and  b.Team is null\n",
    "order by a.player\"\"\"\n",
    "\n",
    "nba_results = pd.read_sql_query(sql_statement, conn)\n",
    "nba_results"
   ]
  },
  {
   "cell_type": "markdown",
   "metadata": {},
   "source": [
    "### Question 8.\n",
    "\n",
    "Using joins, show any players from the 2015-2016 season who are still playing but on a different team in 20-21. Be sure to show the player and both teams, renaming your columns as below.\n",
    "\n",
    "The answer is shown below.\n",
    "\n",
    "|     |      player     |      team15_16     |       team20_21       |\n",
    "|:---:|:---------------:|:------------------:|:---------------------:|\n",
    "|  0  |   Paul Millsap  |    Atlanta Hawks   |     Denver Nuggets    |\n",
    "|  1  |    Al Horford   |    Atlanta Hawks   | Oklahoma City Thunder |\n",
    "|  2  |   Jeff Teague   |    Atlanta Hawks   |    Milwaukee Bucks    |\n",
    "|  3  |    Mike Scott   |    Atlanta Hawks   |  Philadelphia Sixers  |\n",
    "|  4  |  Kent Bazemore  |    Atlanta Hawks   | Golden State Warriors |\n",
    "| ... |       ...       |         ...        |          ...          |\n",
    "| 129 |   Rodney Hood   |      Utah Jazz     |    Toronto Raptors    |\n",
    "| 130 |    John Wall    | Washington Wizards |    Houston Rockets    |\n",
    "| 131 | Markieff Morris | Washington Wizards |   Los Angeles Lakers  |\n",
    "| 132 |   Jared Dudley  | Washington Wizards |   Los Angeles Lakers  |\n",
    "| 133 |  Garrett Temple | Washington Wizards |     Chicago Bulls     |"
   ]
  },
  {
   "cell_type": "code",
   "execution_count": null,
   "metadata": {},
   "outputs": [],
   "source": [
    "sql_statement = \"\"\"Select a.Player, a.team as team15_16, b.team as team20_21 \n",
    "                    from nba_15_16 a\n",
    "                    join nba_20_21 b on\n",
    "                    a.player = b.name\n",
    "                    and a.team <> b.team\"\"\"\n",
    "\n",
    "nba_results = pd.read_sql_query(sql_statement, conn)\n",
    "nba_results\n"
   ]
  },
  {
   "cell_type": "markdown",
   "metadata": {},
   "source": [
    "### Question 9.\n",
    "\n",
    "Using joins, ***for each team***, show how many players from the 2015-2016 season also played in 2021-21 season.  Also show the average age and  average 15-16 salary of these players.  Sort by team name ascending and rename the columns so that they look like below.\n",
    "\n",
    "You'll get 30 rows for the 30 teams.\n",
    "\n",
    "|                team | num_in_both |   avg_age | avg_salary |\n",
    "|--------------------:|------------:|----------:|-----------:|\n",
    "|       Atlanta Hawks |           7 | 31.571429 |   6.724702 |\n",
    "|      Boston Celtics |           5 | 28.800000 |   4.389403 |\n",
    "|       Brooklyn Nets |           4 | 30.750000 |   4.374236 |\n",
    "|   Charlotte Hornets |           4 | 29.500000 |   8.090966 |\n",
    "|       Chicago Bulls |           6 | 29.833333 |   7.137244 |\n",
    "| Cleveland Cavaliers |           4 | 31.750000 |   18.33196 |\n",
    "| ...                 | ...         | ...       | ...        |\n"
   ]
  },
  {
   "cell_type": "code",
   "execution_count": null,
   "metadata": {},
   "outputs": [],
   "source": [
    "sql_statement = \"\"\"Select a.Player, avg(b.age), avg(a.salary) \n",
    "                    from nba_15_16 a\n",
    "                    join nba_20_21 b on\n",
    "                    a.player = b.name\n",
    "                    group by  a.Player\n",
    "                    order by b.team\"\"\"\n",
    "\n",
    "nba_results = pd.read_sql_query(sql_statement, conn)\n",
    "nba_results\n"
   ]
  },
  {
   "cell_type": "markdown",
   "metadata": {},
   "source": [
    "### Question 10\n",
    "\n",
    "***Using the \"RIGHT\" kind of join,*** :) show the name of the players in the 20-21 season, their current team, and the 2015-2016 team. \n",
    "\n",
    "If they dont' have a 2015-2016 team, show the phrase \"NEW\".\n",
    "\n",
    "The answer is shown.\n",
    "\n",
    "|     |           name           |       team20_21      |       team15_16       |\n",
    "|:---:|:------------------------:|:--------------------:|:---------------------:|\n",
    "|  0  |     Precious Achiuwa     |      Miami Heat      |          NEW          |\n",
    "|  1  |       Steven Adams       | New Orleans Pelicans | Oklahoma City Thunder |\n",
    "|  2  |        Bam Adebayo       |      Miami Heat      |          NEW          |\n",
    "|  3  |     Ty-Shon Alexander    |     Phoenix Suns     |          NEW          |\n",
    "|  4  | Nickeil Alexander-Walker | New Orleans Pelicans |          NEW          |\n",
    "| ... |            ...           |          ...         |          ...          |\n",
    "| 490 |       Delon Wright       |   Sacramento Kings   |    Toronto Raptors    |\n",
    "| 491 |      Thaddeus Young      |     Chicago Bulls    |     Brooklyn Nets     |\n",
    "| 492 |        Trae Young        |     Atlanta Hawks    |          NEW          |\n",
    "| 493 |        Cody Zeller       |   Charlotte Hornets  |   Charlotte Hornets   |\n",
    "| 494 |        Ivica Zubac       | Los Angeles Clippers |          NEW          |"
   ]
  },
  {
   "cell_type": "code",
   "execution_count": null,
   "metadata": {},
   "outputs": [],
   "source": [
    "sql_statement = \"\"\"Select b.name , b.team as team_20_21, isnull(a.team,'NEW') as team_15_16\n",
    "                    from nba_15_16 a\n",
    "                    right join nba_20_21 b\n",
    "                    on a.player = b.name\"\"\"\n",
    "\n",
    "nba_results = pd.read_sql_query(sql_statement, conn)\n",
    "nba_results\n"
   ]
  },
  {
   "cell_type": "markdown",
   "metadata": {},
   "source": [
    "### Question 11A.\n",
    "\n",
    "For each team in 20-21, show the average weight and the min/max/average height per position.  Sort the table by the average height from high to low.  Rename your columns to have nicely formatted headers that explain what data is in the column.\n",
    "\n",
    "There should be 9 rows."
   ]
  },
  {
   "cell_type": "code",
   "execution_count": null,
   "metadata": {},
   "outputs": [],
   "source": [
    "sql_statement = \"\"\"Select team, position, avg(weight), min(height), max(height), average(height) \n",
    "                    from nba_20_21\n",
    "                    group by team, pos\n",
    "                    order by average(height) desc\"\"\"\n",
    "\n",
    "nba_results = pd.read_sql_query(sql_statement, conn)\n",
    "nba_results\n"
   ]
  },
  {
   "cell_type": "markdown",
   "metadata": {},
   "source": [
    "### Question 11B.\n",
    "\n",
    "Does it appear that there is a significant difference between the height and weight of any of the positions?  Explain."
   ]
  },
  {
   "cell_type": "markdown",
   "metadata": {},
   "source": [
    "*Write your answer here.*"
   ]
  },
  {
   "cell_type": "markdown",
   "metadata": {},
   "source": [
    "----\n",
    "Let's close the datbase connection to the nba."
   ]
  },
  {
   "cell_type": "code",
   "execution_count": null,
   "metadata": {},
   "outputs": [],
   "source": [
    "conn.close()"
   ]
  },
  {
   "cell_type": "markdown",
   "metadata": {},
   "source": [
    "---\n",
    "You're done your last HW!  Thank you for you a great semester!"
   ]
  }
 ],
 "metadata": {
  "kernelspec": {
   "display_name": "Python 3",
   "language": "python",
   "name": "python3"
  },
  "language_info": {
   "codemirror_mode": {
    "name": "ipython",
    "version": 3
   },
   "file_extension": ".py",
   "mimetype": "text/x-python",
   "name": "python",
   "nbconvert_exporter": "python",
   "pygments_lexer": "ipython3",
   "version": "3.8.5"
  }
 },
 "nbformat": 4,
 "nbformat_minor": 4
}
